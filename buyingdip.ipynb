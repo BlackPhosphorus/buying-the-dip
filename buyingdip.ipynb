{
 "cells": [
  {
   "cell_type": "markdown",
   "id": "33fce477",
   "metadata": {},
   "source": [
    "# Does \"Buying the Dip\" Truly Work?"
   ]
  },
  {
   "cell_type": "markdown",
   "id": "298f470a",
   "metadata": {},
   "source": [
    "### Overview"
   ]
  },
  {
   "cell_type": "markdown",
   "id": "37aceb43",
   "metadata": {},
   "source": [
    "\n",
    "Today, we're going to be observing historical data of the S&P 500 while observing and executing trades based on the Close and Low differential, and then measuring the probability that the next day is an upwards move. All in all, this leads us to get a better idea of how efficient following a long term strategy of \"buying the dip\" truly is."
   ]
  },
  {
   "cell_type": "markdown",
   "id": "64535916",
   "metadata": {},
   "source": [
    "### Preparation"
   ]
  },
  {
   "cell_type": "markdown",
   "id": "beb08c48",
   "metadata": {},
   "source": [
    "\n",
    "We begin by importing the necessary Python libraries, and setting up the range we will work between.\n"
   ]
  },
  {
   "cell_type": "code",
   "execution_count": 20,
   "id": "03c39536",
   "metadata": {},
   "outputs": [],
   "source": [
    "import yfinance as yf\n",
    "import datetime\n",
    "import numpy as np\n",
    "from matplotlib import pyplot as plt\n",
    "%matplotlib inline"
   ]
  },
  {
   "cell_type": "code",
   "execution_count": 21,
   "id": "114b7d6e",
   "metadata": {},
   "outputs": [],
   "source": [
    "SYMBOL = \"^GSPC\"\n",
    "PCT_THRESH = 20\n",
    "\n",
    "START = datetime.datetime(2000, 1, 1)\n",
    "END = datetime.datetime(2024, 1, 1)\n",
    "YEARS = (END - START).days / 365.25"
   ]
  },
  {
   "cell_type": "markdown",
   "id": "47a80c5a",
   "metadata": {},
   "source": [
    "### Preparing Data"
   ]
  },
  {
   "cell_type": "markdown",
   "id": "8ff10313",
   "metadata": {},
   "source": [
    "\n",
    "Using `yfinance`, we download historical price data for the S&P 500. \n",
    "We then clean the data by removing redundant columns, which are not needed for our analysis.\n"
   ]
  },
  {
   "cell_type": "code",
   "execution_count": 22,
   "id": "96a1ca6a",
   "metadata": {},
   "outputs": [
    {
     "name": "stderr",
     "output_type": "stream",
     "text": [
      "[*********************100%%**********************]  1 of 1 completed\n"
     ]
    },
    {
     "data": {
      "text/html": [
       "<div>\n",
       "<style scoped>\n",
       "    .dataframe tbody tr th:only-of-type {\n",
       "        vertical-align: middle;\n",
       "    }\n",
       "\n",
       "    .dataframe tbody tr th {\n",
       "        vertical-align: top;\n",
       "    }\n",
       "\n",
       "    .dataframe thead th {\n",
       "        text-align: right;\n",
       "    }\n",
       "</style>\n",
       "<table border=\"1\" class=\"dataframe\">\n",
       "  <thead>\n",
       "    <tr style=\"text-align: right;\">\n",
       "      <th></th>\n",
       "      <th>Open</th>\n",
       "      <th>High</th>\n",
       "      <th>Low</th>\n",
       "      <th>Close</th>\n",
       "    </tr>\n",
       "    <tr>\n",
       "      <th>Date</th>\n",
       "      <th></th>\n",
       "      <th></th>\n",
       "      <th></th>\n",
       "      <th></th>\n",
       "    </tr>\n",
       "  </thead>\n",
       "  <tbody>\n",
       "    <tr>\n",
       "      <th>2023-12-22</th>\n",
       "      <td>4753.919922</td>\n",
       "      <td>4772.939941</td>\n",
       "      <td>4736.770020</td>\n",
       "      <td>4754.629883</td>\n",
       "    </tr>\n",
       "    <tr>\n",
       "      <th>2023-12-26</th>\n",
       "      <td>4758.859863</td>\n",
       "      <td>4784.720215</td>\n",
       "      <td>4758.450195</td>\n",
       "      <td>4774.750000</td>\n",
       "    </tr>\n",
       "    <tr>\n",
       "      <th>2023-12-27</th>\n",
       "      <td>4773.450195</td>\n",
       "      <td>4785.390137</td>\n",
       "      <td>4768.899902</td>\n",
       "      <td>4781.580078</td>\n",
       "    </tr>\n",
       "    <tr>\n",
       "      <th>2023-12-28</th>\n",
       "      <td>4786.439941</td>\n",
       "      <td>4793.299805</td>\n",
       "      <td>4780.979980</td>\n",
       "      <td>4783.350098</td>\n",
       "    </tr>\n",
       "    <tr>\n",
       "      <th>2023-12-29</th>\n",
       "      <td>4782.879883</td>\n",
       "      <td>4788.430176</td>\n",
       "      <td>4751.990234</td>\n",
       "      <td>4769.830078</td>\n",
       "    </tr>\n",
       "  </tbody>\n",
       "</table>\n",
       "</div>"
      ],
      "text/plain": [
       "                   Open         High          Low        Close\n",
       "Date                                                          \n",
       "2023-12-22  4753.919922  4772.939941  4736.770020  4754.629883\n",
       "2023-12-26  4758.859863  4784.720215  4758.450195  4774.750000\n",
       "2023-12-27  4773.450195  4785.390137  4768.899902  4781.580078\n",
       "2023-12-28  4786.439941  4793.299805  4780.979980  4783.350098\n",
       "2023-12-29  4782.879883  4788.430176  4751.990234  4769.830078"
      ]
     },
     "execution_count": 22,
     "metadata": {},
     "output_type": "execute_result"
    }
   ],
   "source": [
    "price = yf.download(SYMBOL, start=START, end=END)\n",
    "price = price.drop(['Volume', 'Adj Close'], axis=1)\n",
    "price.tail()"
   ]
  },
  {
   "cell_type": "markdown",
   "id": "17b0241c",
   "metadata": {},
   "source": [
    "### Data Visualization"
   ]
  },
  {
   "cell_type": "markdown",
   "id": "075a2d5a",
   "metadata": {},
   "source": [
    "\n",
    "Visualizing the closing prices of the S&P 500 over time can properly provide us with a better understanding of the market trends and fluctuations. \n"
   ]
  },
  {
   "cell_type": "code",
   "execution_count": 23,
   "id": "337d7dcc",
   "metadata": {},
   "outputs": [
    {
     "data": {
      "image/png": "[encoded data removed]",
      "text/plain": [
       "<Figure size 640x480 with 1 Axes>"
      ]
     },
     "metadata": {},
     "output_type": "display_data"
    }
   ],
   "source": [
    "\n",
    "plt.plot(price.Close)\n",
    "plt.title('S&P 500 Closing Prices (2000-2020)')\n",
    "plt.xlabel('Date')\n",
    "plt.ylabel('Closing Price')\n",
    "plt.show()\n",
    "    "
   ]
  },
  {
   "cell_type": "markdown",
   "id": "b73d16b6",
   "metadata": {},
   "source": [
    "Calculating Key Metrics"
   ]
  },
  {
   "cell_type": "markdown",
   "id": "735fda67",
   "metadata": {},
   "source": [
    "\n",
    "Here, we calculate several key metrics that will form the basis of our trading strategy:\n",
    "- **Return**: The daily return of the S&P 500.\n",
    "- **Range**: The daily price range (High - Low).\n",
    "- **Dist**: The distance of the closing price from the low of the day.\n",
    "- **Pct**: The percentage of the distance relative to the range.\n"
   ]
  },
  {
   "cell_type": "code",
   "execution_count": 24,
   "id": "a87ade7f",
   "metadata": {},
   "outputs": [
    {
     "data": {
      "text/html": [
       "<div>\n",
       "<style scoped>\n",
       "    .dataframe tbody tr th:only-of-type {\n",
       "        vertical-align: middle;\n",
       "    }\n",
       "\n",
       "    .dataframe tbody tr th {\n",
       "        vertical-align: top;\n",
       "    }\n",
       "\n",
       "    .dataframe thead th {\n",
       "        text-align: right;\n",
       "    }\n",
       "</style>\n",
       "<table border=\"1\" class=\"dataframe\">\n",
       "  <thead>\n",
       "    <tr style=\"text-align: right;\">\n",
       "      <th></th>\n",
       "      <th>Open</th>\n",
       "      <th>High</th>\n",
       "      <th>Low</th>\n",
       "      <th>Close</th>\n",
       "      <th>Return</th>\n",
       "      <th>Range</th>\n",
       "      <th>Dist</th>\n",
       "      <th>Pct</th>\n",
       "    </tr>\n",
       "    <tr>\n",
       "      <th>Date</th>\n",
       "      <th></th>\n",
       "      <th></th>\n",
       "      <th></th>\n",
       "      <th></th>\n",
       "      <th></th>\n",
       "      <th></th>\n",
       "      <th></th>\n",
       "      <th></th>\n",
       "    </tr>\n",
       "  </thead>\n",
       "  <tbody>\n",
       "    <tr>\n",
       "      <th>2023-12-22</th>\n",
       "      <td>4753.919922</td>\n",
       "      <td>4772.939941</td>\n",
       "      <td>4736.770020</td>\n",
       "      <td>4754.629883</td>\n",
       "      <td>1.001660</td>\n",
       "      <td>36.169922</td>\n",
       "      <td>17.859863</td>\n",
       "      <td>49.377666</td>\n",
       "    </tr>\n",
       "    <tr>\n",
       "      <th>2023-12-26</th>\n",
       "      <td>4758.859863</td>\n",
       "      <td>4784.720215</td>\n",
       "      <td>4758.450195</td>\n",
       "      <td>4774.750000</td>\n",
       "      <td>1.004232</td>\n",
       "      <td>26.270020</td>\n",
       "      <td>16.299805</td>\n",
       "      <td>62.047174</td>\n",
       "    </tr>\n",
       "    <tr>\n",
       "      <th>2023-12-27</th>\n",
       "      <td>4773.450195</td>\n",
       "      <td>4785.390137</td>\n",
       "      <td>4768.899902</td>\n",
       "      <td>4781.580078</td>\n",
       "      <td>1.001430</td>\n",
       "      <td>16.490234</td>\n",
       "      <td>12.680176</td>\n",
       "      <td>76.895061</td>\n",
       "    </tr>\n",
       "    <tr>\n",
       "      <th>2023-12-28</th>\n",
       "      <td>4786.439941</td>\n",
       "      <td>4793.299805</td>\n",
       "      <td>4780.979980</td>\n",
       "      <td>4783.350098</td>\n",
       "      <td>1.000370</td>\n",
       "      <td>12.319824</td>\n",
       "      <td>2.370117</td>\n",
       "      <td>19.238239</td>\n",
       "    </tr>\n",
       "    <tr>\n",
       "      <th>2023-12-29</th>\n",
       "      <td>4782.879883</td>\n",
       "      <td>4788.430176</td>\n",
       "      <td>4751.990234</td>\n",
       "      <td>4769.830078</td>\n",
       "      <td>0.997174</td>\n",
       "      <td>36.439941</td>\n",
       "      <td>17.839844</td>\n",
       "      <td>48.956840</td>\n",
       "    </tr>\n",
       "  </tbody>\n",
       "</table>\n",
       "</div>"
      ],
      "text/plain": [
       "                   Open         High          Low        Close    Return  \\\n",
       "Date                                                                       \n",
       "2023-12-22  4753.919922  4772.939941  4736.770020  4754.629883  1.001660   \n",
       "2023-12-26  4758.859863  4784.720215  4758.450195  4774.750000  1.004232   \n",
       "2023-12-27  4773.450195  4785.390137  4768.899902  4781.580078  1.001430   \n",
       "2023-12-28  4786.439941  4793.299805  4780.979980  4783.350098  1.000370   \n",
       "2023-12-29  4782.879883  4788.430176  4751.990234  4769.830078  0.997174   \n",
       "\n",
       "                Range       Dist        Pct  \n",
       "Date                                         \n",
       "2023-12-22  36.169922  17.859863  49.377666  \n",
       "2023-12-26  26.270020  16.299805  62.047174  \n",
       "2023-12-27  16.490234  12.680176  76.895061  \n",
       "2023-12-28  12.319824   2.370117  19.238239  \n",
       "2023-12-29  36.439941  17.839844  48.956840  "
      ]
     },
     "execution_count": 24,
     "metadata": {},
     "output_type": "execute_result"
    }
   ],
   "source": [
    "price['Return'] = price.Close / price.Close.shift(1)\n",
    "price.Return.iat[0] = 1\n",
    "\n",
    "price['Range'] = price.High - price.Low\n",
    "\n",
    "price['Dist'] = abs(price.Close - price.Low)\n",
    "\n",
    "price['Pct'] = (price.Dist / price.Range) * 100\n",
    "\n",
    "price.tail()"
   ]
  },
  {
   "cell_type": "markdown",
   "id": "afe6fff6",
   "metadata": {},
   "source": [
    "### Implementing the Trading Strategy"
   ]
  },
  {
   "cell_type": "markdown",
   "id": "772e1916",
   "metadata": {},
   "source": [
    "\n",
    "We define a simple trading strategy: we enter a long position if the percentage of the distance from the closing price to the low is below a certain threshold. \n",
    "We then calculate the return of this strategy and compare it to the benchmark.\n"
   ]
  },
  {
   "cell_type": "code",
   "execution_count": 25,
   "id": "0803ec51",
   "metadata": {},
   "outputs": [
    {
     "data": {
      "text/html": [
       "<div>\n",
       "<style scoped>\n",
       "    .dataframe tbody tr th:only-of-type {\n",
       "        vertical-align: middle;\n",
       "    }\n",
       "\n",
       "    .dataframe tbody tr th {\n",
       "        vertical-align: top;\n",
       "    }\n",
       "\n",
       "    .dataframe thead th {\n",
       "        text-align: right;\n",
       "    }\n",
       "</style>\n",
       "<table border=\"1\" class=\"dataframe\">\n",
       "  <thead>\n",
       "    <tr style=\"text-align: right;\">\n",
       "      <th></th>\n",
       "      <th>Open</th>\n",
       "      <th>High</th>\n",
       "      <th>Low</th>\n",
       "      <th>Close</th>\n",
       "      <th>Return</th>\n",
       "      <th>Range</th>\n",
       "      <th>Dist</th>\n",
       "      <th>Pct</th>\n",
       "      <th>Long</th>\n",
       "      <th>Sys_Ret</th>\n",
       "    </tr>\n",
       "    <tr>\n",
       "      <th>Date</th>\n",
       "      <th></th>\n",
       "      <th></th>\n",
       "      <th></th>\n",
       "      <th></th>\n",
       "      <th></th>\n",
       "      <th></th>\n",
       "      <th></th>\n",
       "      <th></th>\n",
       "      <th></th>\n",
       "      <th></th>\n",
       "    </tr>\n",
       "  </thead>\n",
       "  <tbody>\n",
       "    <tr>\n",
       "      <th>2023-12-22</th>\n",
       "      <td>4753.919922</td>\n",
       "      <td>4772.939941</td>\n",
       "      <td>4736.770020</td>\n",
       "      <td>4754.629883</td>\n",
       "      <td>1.001660</td>\n",
       "      <td>36.169922</td>\n",
       "      <td>17.859863</td>\n",
       "      <td>49.377666</td>\n",
       "      <td>False</td>\n",
       "      <td>1.000000</td>\n",
       "    </tr>\n",
       "    <tr>\n",
       "      <th>2023-12-26</th>\n",
       "      <td>4758.859863</td>\n",
       "      <td>4784.720215</td>\n",
       "      <td>4758.450195</td>\n",
       "      <td>4774.750000</td>\n",
       "      <td>1.004232</td>\n",
       "      <td>26.270020</td>\n",
       "      <td>16.299805</td>\n",
       "      <td>62.047174</td>\n",
       "      <td>False</td>\n",
       "      <td>1.000000</td>\n",
       "    </tr>\n",
       "    <tr>\n",
       "      <th>2023-12-27</th>\n",
       "      <td>4773.450195</td>\n",
       "      <td>4785.390137</td>\n",
       "      <td>4768.899902</td>\n",
       "      <td>4781.580078</td>\n",
       "      <td>1.001430</td>\n",
       "      <td>16.490234</td>\n",
       "      <td>12.680176</td>\n",
       "      <td>76.895061</td>\n",
       "      <td>False</td>\n",
       "      <td>1.000000</td>\n",
       "    </tr>\n",
       "    <tr>\n",
       "      <th>2023-12-28</th>\n",
       "      <td>4786.439941</td>\n",
       "      <td>4793.299805</td>\n",
       "      <td>4780.979980</td>\n",
       "      <td>4783.350098</td>\n",
       "      <td>1.000370</td>\n",
       "      <td>12.319824</td>\n",
       "      <td>2.370117</td>\n",
       "      <td>19.238239</td>\n",
       "      <td>True</td>\n",
       "      <td>1.000000</td>\n",
       "    </tr>\n",
       "    <tr>\n",
       "      <th>2023-12-29</th>\n",
       "      <td>4782.879883</td>\n",
       "      <td>4788.430176</td>\n",
       "      <td>4751.990234</td>\n",
       "      <td>4769.830078</td>\n",
       "      <td>0.997174</td>\n",
       "      <td>36.439941</td>\n",
       "      <td>17.839844</td>\n",
       "      <td>48.956840</td>\n",
       "      <td>False</td>\n",
       "      <td>0.997174</td>\n",
       "    </tr>\n",
       "  </tbody>\n",
       "</table>\n",
       "</div>"
      ],
      "text/plain": [
       "                   Open         High          Low        Close    Return  \\\n",
       "Date                                                                       \n",
       "2023-12-22  4753.919922  4772.939941  4736.770020  4754.629883  1.001660   \n",
       "2023-12-26  4758.859863  4784.720215  4758.450195  4774.750000  1.004232   \n",
       "2023-12-27  4773.450195  4785.390137  4768.899902  4781.580078  1.001430   \n",
       "2023-12-28  4786.439941  4793.299805  4780.979980  4783.350098  1.000370   \n",
       "2023-12-29  4782.879883  4788.430176  4751.990234  4769.830078  0.997174   \n",
       "\n",
       "                Range       Dist        Pct   Long   Sys_Ret  \n",
       "Date                                                          \n",
       "2023-12-22  36.169922  17.859863  49.377666  False  1.000000  \n",
       "2023-12-26  26.270020  16.299805  62.047174  False  1.000000  \n",
       "2023-12-27  16.490234  12.680176  76.895061  False  1.000000  \n",
       "2023-12-28  12.319824   2.370117  19.238239   True  1.000000  \n",
       "2023-12-29  36.439941  17.839844  48.956840  False  0.997174  "
      ]
     },
     "execution_count": 25,
     "metadata": {},
     "output_type": "execute_result"
    }
   ],
   "source": [
    "price['Long'] = price.Pct < PCT_THRESH\n",
    "\n",
    "price['Sys_Ret'] = np.where(price.Long.shift(1) == True, price.Return, 1.0)\n",
    "\n",
    "price.tail() "
   ]
  },
  {
   "cell_type": "markdown",
   "id": "f2697ff3",
   "metadata": {},
   "source": [
    "### Evaluating Strategy Performance"
   ]
  },
  {
   "cell_type": "markdown",
   "id": "f0bb7a28",
   "metadata": {},
   "source": [
    "\n",
    "To evaluate the effectiveness of our strategy, we can utilize a few extremely textbook several performance metrics:\n",
    "- **Win Rate**: The percentage of days where the strategy results in a gain.\n",
    "- **Sharpe Ratio**: A measure of risk-adjusted return.\n",
    "- **Max Drawdown**: The maximum observed loss from a peak to a trough.\n"
   ]
  },
  {
   "cell_type": "code",
   "execution_count": 26,
   "id": "93c13688",
   "metadata": {},
   "outputs": [
    {
     "name": "stdout",
     "output_type": "stream",
     "text": [
      "Benchmark Winrate: 53.47%\n",
      "System Winrate: 58.4%\n",
      "System Sharpe Ratio: 0.052336087883554046\n",
      "Max Drawdown: 0.7054998887812611\n"
     ]
    }
   ],
   "source": [
    "\n",
    "#benchmark up and down days\n",
    "bench_win = price.Return[price.Return > 1.0].count()\n",
    "bench_loss = price.Return[price.Return < 1.0].count()\n",
    "bench_winrate = round((bench_win / (bench_win + bench_loss)) * 100, 2)\n",
    "\n",
    "#extract the up and down days\n",
    "sys_win = price.Sys_Ret[price.Sys_Ret > 1.0].count()\n",
    "sys_loss = price.Sys_Ret[price.Sys_Ret < 1.0].count()\n",
    "sys_winrate = round(sys_win / (sys_win + sys_loss) * 100, 2)\n",
    "sharpe_ratio = (price['Sys_Ret'].mean() - 1) / price['Sys_Ret'].std()\n",
    "max_drawdown = np.min(price['Sys_Ret'].cumprod() / np.maximum.accumulate(price['Sys_Ret'].cumprod()))\n",
    "\n",
    "print(f'Benchmark Winrate: {bench_winrate}%')\n",
    "print(f'System Winrate: {sys_winrate}%')\n",
    "print(f'System Sharpe Ratio: {sharpe_ratio}')\n",
    "print(f'Max Drawdown: {max_drawdown}')\n",
    "    "
   ]
  },
  {
   "cell_type": "markdown",
   "id": "50ae378b",
   "metadata": {},
   "source": [
    "### Sensitivity Analysis"
   ]
  },
  {
   "cell_type": "markdown",
   "id": "cc805fd3",
   "metadata": {},
   "source": [
    "\n",
    "We now conduct a sensitivity analysis to observe how different percentage thresholds affect the strategy's performance, on various thresholds.\n"
   ]
  },
  {
   "cell_type": "code",
   "execution_count": 27,
   "id": "8540567b",
   "metadata": {},
   "outputs": [
    {
     "data": {
      "image/png": "[encoded data removed]",
      "text/plain": [
       "<Figure size 640x480 with 1 Axes>"
      ]
     },
     "metadata": {},
     "output_type": "display_data"
    }
   ],
   "source": [
    "def simulate(price, threshold):\n",
    "    price['Long'] = price.Pct < threshold\n",
    "    price['Sys_Ret'] = np.where(price.Long.shift(1) == True, price.Return, 1.0)\n",
    "    sys_win = price.Sys_Ret[price.Sys_Ret > 1.0].count()\n",
    "    sys_loss = price.Sys_Ret[price.Sys_Ret < 1.0].count()\n",
    "    sys_winrate = round(sys_win / (sys_win + sys_loss) * 100, 2)\n",
    "\n",
    "    return sys_winrate\n",
    "\n",
    "results = []\n",
    "pct_range = range(5, 101)\n",
    "\n",
    "for pct in pct_range:\n",
    "    results.append(simulate(price, pct))\n",
    "\n",
    "plt.plot(pct_range, results)\n",
    "plt.hlines(bench_winrate, pct_range[0], pct_range[-1], colors = 'orange')\n",
    "plt.title('Sensitivity Analysis of Win Rate vs Threshold')\n",
    "plt.xlabel('Percentage Threshold')\n",
    "plt.ylabel('Win Rate (%)')\n",
    "plt.show()\n",
    "    "
   ]
  },
  {
   "cell_type": "markdown",
   "id": "5ea52dcf",
   "metadata": {},
   "source": [
    "What we're seeing here is the result of the strategy. We can see the winrates of the strategy, on the blue line, compared to the \"buy and hold\" strategy on the blue line. "
   ]
  },
  {
   "cell_type": "markdown",
   "id": "e936e3a7",
   "metadata": {},
   "source": [
    "### Backtesting"
   ]
  },
  {
   "cell_type": "markdown",
   "id": "519afb13",
   "metadata": {},
   "source": [
    "Backtest rules:\n",
    "\n",
    "1. Check if today's close is in the bottom n % of the day's range\n",
    "2. If condition is met then enter on the close and exit the next day's close, unless the signal is repeated."
   ]
  },
  {
   "cell_type": "code",
   "execution_count": 28,
   "id": "d6d303c3",
   "metadata": {},
   "outputs": [
    {
     "data": {
      "text/html": [
       "<div>\n",
       "<style scoped>\n",
       "    .dataframe tbody tr th:only-of-type {\n",
       "        vertical-align: middle;\n",
       "    }\n",
       "\n",
       "    .dataframe tbody tr th {\n",
       "        vertical-align: top;\n",
       "    }\n",
       "\n",
       "    .dataframe thead th {\n",
       "        text-align: right;\n",
       "    }\n",
       "</style>\n",
       "<table border=\"1\" class=\"dataframe\">\n",
       "  <thead>\n",
       "    <tr style=\"text-align: right;\">\n",
       "      <th></th>\n",
       "      <th>Open</th>\n",
       "      <th>High</th>\n",
       "      <th>Low</th>\n",
       "      <th>Close</th>\n",
       "      <th>Return</th>\n",
       "      <th>Range</th>\n",
       "      <th>Dist</th>\n",
       "      <th>Pct</th>\n",
       "      <th>Long</th>\n",
       "      <th>Sys_Ret</th>\n",
       "      <th>Sys_Bal</th>\n",
       "      <th>Bench_Bal</th>\n",
       "    </tr>\n",
       "    <tr>\n",
       "      <th>Date</th>\n",
       "      <th></th>\n",
       "      <th></th>\n",
       "      <th></th>\n",
       "      <th></th>\n",
       "      <th></th>\n",
       "      <th></th>\n",
       "      <th></th>\n",
       "      <th></th>\n",
       "      <th></th>\n",
       "      <th></th>\n",
       "      <th></th>\n",
       "      <th></th>\n",
       "    </tr>\n",
       "  </thead>\n",
       "  <tbody>\n",
       "    <tr>\n",
       "      <th>2023-12-22</th>\n",
       "      <td>4753.919922</td>\n",
       "      <td>4772.939941</td>\n",
       "      <td>4736.770020</td>\n",
       "      <td>4754.629883</td>\n",
       "      <td>1.001660</td>\n",
       "      <td>36.169922</td>\n",
       "      <td>17.859863</td>\n",
       "      <td>49.377666</td>\n",
       "      <td>False</td>\n",
       "      <td>1.000000</td>\n",
       "      <td>60316.607377</td>\n",
       "      <td>32672.929032</td>\n",
       "    </tr>\n",
       "    <tr>\n",
       "      <th>2023-12-26</th>\n",
       "      <td>4758.859863</td>\n",
       "      <td>4784.720215</td>\n",
       "      <td>4758.450195</td>\n",
       "      <td>4774.750000</td>\n",
       "      <td>1.004232</td>\n",
       "      <td>26.270020</td>\n",
       "      <td>16.299805</td>\n",
       "      <td>62.047174</td>\n",
       "      <td>False</td>\n",
       "      <td>1.000000</td>\n",
       "      <td>60316.607377</td>\n",
       "      <td>32811.190721</td>\n",
       "    </tr>\n",
       "    <tr>\n",
       "      <th>2023-12-27</th>\n",
       "      <td>4773.450195</td>\n",
       "      <td>4785.390137</td>\n",
       "      <td>4768.899902</td>\n",
       "      <td>4781.580078</td>\n",
       "      <td>1.001430</td>\n",
       "      <td>16.490234</td>\n",
       "      <td>12.680176</td>\n",
       "      <td>76.895061</td>\n",
       "      <td>False</td>\n",
       "      <td>1.000000</td>\n",
       "      <td>60316.607377</td>\n",
       "      <td>32858.125743</td>\n",
       "    </tr>\n",
       "    <tr>\n",
       "      <th>2023-12-28</th>\n",
       "      <td>4786.439941</td>\n",
       "      <td>4793.299805</td>\n",
       "      <td>4780.979980</td>\n",
       "      <td>4783.350098</td>\n",
       "      <td>1.000370</td>\n",
       "      <td>12.319824</td>\n",
       "      <td>2.370117</td>\n",
       "      <td>19.238239</td>\n",
       "      <td>True</td>\n",
       "      <td>1.000000</td>\n",
       "      <td>60316.607377</td>\n",
       "      <td>32870.288987</td>\n",
       "    </tr>\n",
       "    <tr>\n",
       "      <th>2023-12-29</th>\n",
       "      <td>4782.879883</td>\n",
       "      <td>4788.430176</td>\n",
       "      <td>4751.990234</td>\n",
       "      <td>4769.830078</td>\n",
       "      <td>0.997174</td>\n",
       "      <td>36.439941</td>\n",
       "      <td>17.839844</td>\n",
       "      <td>48.956840</td>\n",
       "      <td>False</td>\n",
       "      <td>0.997174</td>\n",
       "      <td>60146.123993</td>\n",
       "      <td>32777.381936</td>\n",
       "    </tr>\n",
       "  </tbody>\n",
       "</table>\n",
       "</div>"
      ],
      "text/plain": [
       "                   Open         High          Low        Close    Return  \\\n",
       "Date                                                                       \n",
       "2023-12-22  4753.919922  4772.939941  4736.770020  4754.629883  1.001660   \n",
       "2023-12-26  4758.859863  4784.720215  4758.450195  4774.750000  1.004232   \n",
       "2023-12-27  4773.450195  4785.390137  4768.899902  4781.580078  1.001430   \n",
       "2023-12-28  4786.439941  4793.299805  4780.979980  4783.350098  1.000370   \n",
       "2023-12-29  4782.879883  4788.430176  4751.990234  4769.830078  0.997174   \n",
       "\n",
       "                Range       Dist        Pct   Long   Sys_Ret       Sys_Bal  \\\n",
       "Date                                                                         \n",
       "2023-12-22  36.169922  17.859863  49.377666  False  1.000000  60316.607377   \n",
       "2023-12-26  26.270020  16.299805  62.047174  False  1.000000  60316.607377   \n",
       "2023-12-27  16.490234  12.680176  76.895061  False  1.000000  60316.607377   \n",
       "2023-12-28  12.319824   2.370117  19.238239   True  1.000000  60316.607377   \n",
       "2023-12-29  36.439941  17.839844  48.956840  False  0.997174  60146.123993   \n",
       "\n",
       "               Bench_Bal  \n",
       "Date                      \n",
       "2023-12-22  32672.929032  \n",
       "2023-12-26  32811.190721  \n",
       "2023-12-27  32858.125743  \n",
       "2023-12-28  32870.288987  \n",
       "2023-12-29  32777.381936  "
      ]
     },
     "execution_count": 28,
     "metadata": {},
     "output_type": "execute_result"
    }
   ],
   "source": [
    "#drop redundant columns\n",
    "#identify entries and allocate trading fees\n",
    "STARTING_BALANCE = 10000\n",
    "price['Long'] = np.logical_and((price.Pct < PCT_THRESH), (price.Range > 10))\n",
    "#calculate system return and balance\n",
    "price['Sys_Ret'] = np.where(price.Long.shift(1) == True, price.Return, 1)\n",
    "price['Sys_Bal'] = (STARTING_BALANCE * price.Sys_Ret.cumprod())\n",
    "#calculate benchmark return and balance\n",
    "price['Return'] = price.Close / price.Close.shift(1)\n",
    "price.Return.iat[0] = 1\n",
    "price['Bench_Bal'] = STARTING_BALANCE * price.Return.cumprod()\n",
    "\n",
    "price.tail()"
   ]
  },
  {
   "cell_type": "code",
   "execution_count": 31,
   "id": "f340c8ad",
   "metadata": {},
   "outputs": [
    {
     "data": {
      "image/png": "[encoded data removed]",
      "text/plain": [
       "<Figure size 640x480 with 1 Axes>"
      ]
     },
     "metadata": {},
     "output_type": "display_data"
    }
   ],
   "source": [
    "#plot balance\n",
    "plt.plot(price.Bench_Bal)\n",
    "plt.plot(price.Sys_Bal, color=\"g\")\n",
    "plt.show()"
   ]
  },
  {
   "cell_type": "code",
   "execution_count": 33,
   "id": "990b6156",
   "metadata": {},
   "outputs": [
    {
     "name": "stdout",
     "output_type": "stream",
     "text": [
      "Benchmark Total return: 227.77%\n",
      "Benchmark CAGR: 5.07\n",
      "Benchmark DD: -56.78%\n",
      "\n",
      "System Total return: 501.46%\n",
      "System CAGR: 7.76\n",
      "System DD: -32.29%\n",
      "Time in Market: 19%\n",
      "Trades Won: 677\n",
      "Trades Loss: 489\n",
      "Winrate: 58.06%\n"
     ]
    }
   ],
   "source": [
    "price['Bench_Peak'] = price.Bench_Bal.cummax()\n",
    "price['Bench_DD'] = price.Bench_Bal - price.Bench_Peak\n",
    "\n",
    "bench_dd = round(((price.Bench_DD / price.Bench_Peak).min() * 100), 2)\n",
    "\n",
    "#calculate system drawdown\n",
    "price['Sys_Peak'] = price.Sys_Bal.cummax()\n",
    "price['Sys_DD'] = price.Sys_Bal - price.Sys_Peak\n",
    "\n",
    "sys_dd = round(((price.Sys_DD / price.Sys_Peak).min()) * 100, 2)\n",
    "\n",
    "sys_dd\n",
    "\n",
    "bench_dd\n",
    "bench_return = round(((price.Bench_Bal.iloc[-1]/price.Bench_Bal.iloc[0]) - 1) * 100, 2)\n",
    "bench_cagr = round(((((price.Bench_Bal.iloc[-1]/price.Bench_Bal.iloc[0])**(1/YEARS))-1)*100), 2)\n",
    "sys_return = round(((price.Sys_Bal.iloc[-1]/price.Sys_Bal.iloc[0]) - 1) * 100, 2)\n",
    "sys_cagr = round(((((price.Sys_Bal.iloc[-1]/price.Sys_Bal.iloc[0])**(1/YEARS))-1)*100), 2)\n",
    "sys_in_market = round((price.Long.value_counts().loc[True] / len(price)) * 100)\n",
    "sys_win = price.Sys_Ret[price.Sys_Ret > 1.0].count()\n",
    "sys_loss = price.Sys_Ret[price.Sys_Ret < 1.0].count()\n",
    "sys_winrate = round(sys_win / (sys_win + sys_loss) * 100, 2)\n",
    "\n",
    "print(f'Benchmark Total return: {bench_return}%')\n",
    "print(f'Benchmark CAGR: {bench_cagr}')\n",
    "print(f'Benchmark DD: {bench_dd}%')\n",
    "print('')\n",
    "print(f'System Total return: {sys_return}%')\n",
    "print(f'System CAGR: {sys_cagr}')\n",
    "print(f'System DD: {sys_dd}%')\n",
    "print(f'Time in Market: {sys_in_market}%')\n",
    "print(f'Trades Won: {sys_win}')\n",
    "print(f'Trades Loss: {sys_loss}')\n",
    "print(f'Winrate: {sys_winrate}%')"
   ]
  },
  {
   "cell_type": "code",
   "execution_count": 34,
   "id": "8e64ddb0",
   "metadata": {},
   "outputs": [
    {
     "name": "stderr",
     "output_type": "stream",
     "text": [
      "[*********************100%%**********************]  1 of 1 completed\n",
      "[*********************100%%**********************]  1 of 1 completed\n",
      "[*********************100%%**********************]  1 of 1 completed\n",
      "[*********************100%%**********************]  1 of 1 completed\n",
      "[*********************100%%**********************]  1 of 1 completed\n"
     ]
    }
   ],
   "source": [
    "#define list of ETFs to backtest\n",
    "symbols = ['^GSPC', '^DJI', '^IXIC', '^RUT', '^N225']\n",
    "def backtest(s):\n",
    "    #download data\n",
    "    price = yf.download(s, start=START, end=END)\n",
    "    \n",
    "    #drop redundant columns\n",
    "    price = price.drop(['Volume', 'Adj Close'], axis=1)\n",
    "    \n",
    "    #calculate benchmark return and balance\n",
    "    price['Return'] = price.Close / price.Close.shift(1)\n",
    "    price.Return.iat[0] = 1\n",
    "    price['Bench_Bal'] = STARTING_BALANCE * price.Return.cumprod()\n",
    "    \n",
    "    #calculate benchmark drawdown\n",
    "    price['Bench_Peak'] = price.Bench_Bal.cummax()\n",
    "    price['Bench_DD'] = price.Bench_Bal - price.Bench_Peak\n",
    "    \n",
    "    #calculate additional columns for strategy\n",
    "    #daily range\n",
    "    price['Range'] = price.High - price.Low\n",
    "    #distance between close and daily low\n",
    "    price['Dist'] = abs(price.Close - price.Low)\n",
    "    #distance as % of range\n",
    "    price['Pct'] = (price.Dist / price.Range) * 100\n",
    "    \n",
    "    #identify entries and allocate trading fees\n",
    "    price['Long'] = np.logical_and((price.Pct < PCT_THRESH), (price.Range > 10))\n",
    "    \n",
    "    #calculate system return and balance\n",
    "    price['Sys_Ret'] = np.where(price.Long.shift(1) == True, price.Return, 1)\n",
    "    price['Sys_Bal'] = (STARTING_BALANCE * price.Sys_Ret.cumprod())\n",
    "    \n",
    "    #calculate system drawdown\n",
    "    price['Sys_Peak'] = price.Sys_Bal.cummax()\n",
    "    price['Sys_DD'] = price.Sys_Bal - price.Sys_Peak\n",
    "    \n",
    "    #calculate metrics\n",
    "    bench_cagr = round(((((price.Bench_Bal.iloc[-1]/price.Bench_Bal.iloc[0])**(1/YEARS))-1)*100), 2)\n",
    "    bench_dd = round((price.Bench_DD / price.Bench_Peak).min() * 100, 2)\n",
    "    sys_cagr = round(((((price.Sys_Bal.iloc[-1]/price.Sys_Bal.iloc[0])**(1/YEARS))-1)*100), 2)\n",
    "    sys_dd = round(((price.Sys_DD / price.Sys_Peak).min()) * 100, 2)\n",
    "    \n",
    "    return bench_cagr, sys_cagr\n",
    "#backtest multiple symbols\n",
    "bc = []\n",
    "sc = []\n",
    "\n",
    "for symbol in symbols:\n",
    "    bench_cagr, sys_cagr = backtest(symbol)\n",
    "    bc.append(bench_cagr)\n",
    "    sc.append(sys_cagr)"
   ]
  },
  {
   "cell_type": "code",
   "execution_count": 36,
   "id": "d22f01a2",
   "metadata": {},
   "outputs": [
    {
     "data": {
      "image/png": "[encoded data removed]",
      "text/plain": [
       "<Figure size 640x480 with 1 Axes>"
      ]
     },
     "metadata": {},
     "output_type": "display_data"
    }
   ],
   "source": [
    "#plot data\n",
    "x_indices = np.arange(len(symbols))\n",
    "width = 0.2\n",
    "\n",
    "plt.bar(x_indices - width / 2, bc, width = width, label = 'Benchmark', color=\"blue\")\n",
    "plt.bar(x_indices + width / 2, sc, width = width, label = 'System', color=\"green\")\n",
    "   \n",
    "plt.xticks(ticks = x_indices, labels = symbols)\n",
    "\n",
    "plt.legend()\n",
    "\n",
    "plt.title('Backtest CAGR')\n",
    "plt.xlabel('Symbols')\n",
    "plt.ylabel('% CAGR')\n",
    "plt.tight_layout()\n",
    "\n",
    "plt.show()"
   ]
  },
  {
   "cell_type": "markdown",
   "id": "755a94d9",
   "metadata": {},
   "source": [
    "Looks like another win for buying the dip. We can effectively conclude that it is still viable."
   ]
  }
 ],
 "metadata": {
  "kernelspec": {
   "display_name": "Python 3",
   "language": "python",
   "name": "python3"
  },
  "language_info": {
   "codemirror_mode": {
    "name": "ipython",
    "version": 3
   },
   "file_extension": ".py",
   "mimetype": "text/x-python",
   "name": "python",
   "nbconvert_exporter": "python",
   "pygments_lexer": "ipython3",
   "version": "3.12.1"
  }
 },
 "nbformat": 4,
 "nbformat_minor": 5
}
