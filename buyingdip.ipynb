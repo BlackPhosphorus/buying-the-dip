{
 "cells": [
  {
   "cell_type": "markdown",
   "id": "33fce477",
   "metadata": {},
   "source": [
    "# Does \"Buying the Dip\" Truly Work?"
   ]
  },
  {
   "cell_type": "markdown",
   "id": "298f470a",
   "metadata": {},
   "source": [
    "### Overview"
   ]
  },
  {
   "cell_type": "markdown",
   "id": "37aceb43",
   "metadata": {},
   "source": [
    "\n",
    "Today, we're going to be observing historical data of the S&P 500 while observing and executing trades based on the Close and Low differential, and then measuring the probability that the next day is an upwards move. All in all, this leads us to get a better idea of how efficient following a long term strategy of \"buying the dip\" truly is."
   ]
  },
  {
   "cell_type": "markdown",
   "id": "64535916",
   "metadata": {},
   "source": [
    "### Preparation"
   ]
  },
  {
   "cell_type": "markdown",
   "id": "beb08c48",
   "metadata": {},
   "source": [
    "\n",
    "We begin by importing the necessary Python libraries, and setting up the range we will work between.\n"
   ]
  },
  {
   "cell_type": "code",
   "execution_count": 11,
   "id": "03c39536",
   "metadata": {},
   "outputs": [],
   "source": [
    "import yfinance as yf\n",
    "import datetime\n",
    "import numpy as np\n",
    "from matplotlib import pyplot as plt\n",
    "%matplotlib inline"
   ]
  },
  {
   "cell_type": "code",
   "execution_count": 2,
   "id": "114b7d6e",
   "metadata": {},
   "outputs": [],
   "source": [
    "SYMBOL = \"^GSPC\"\n",
    "PCT_THRESH = 20\n",
    "\n",
    "START = datetime.datetime(2000, 1, 1)\n",
    "END = datetime.datetime(2020, 1, 1)\n",
    "YEARS = (END - START).days / 365.25"
   ]
  },
  {
   "cell_type": "markdown",
   "id": "47a80c5a",
   "metadata": {},
   "source": [
    "### Preparing Data"
   ]
  },
  {
   "cell_type": "markdown",
   "id": "8ff10313",
   "metadata": {},
   "source": [
    "\n",
    "Using `yfinance`, we download historical price data for the S&P 500. \n",
    "We then clean the data by removing redundant columns, which are not needed for our analysis.\n"
   ]
  },
  {
   "cell_type": "code",
   "execution_count": 3,
   "id": "96a1ca6a",
   "metadata": {},
   "outputs": [
    {
     "name": "stderr",
     "output_type": "stream",
     "text": [
      "[*********************100%%**********************]  1 of 1 completed\n"
     ]
    },
    {
     "data": {
      "text/html": [
       "<div>\n",
       "<style scoped>\n",
       "    .dataframe tbody tr th:only-of-type {\n",
       "        vertical-align: middle;\n",
       "    }\n",
       "\n",
       "    .dataframe tbody tr th {\n",
       "        vertical-align: top;\n",
       "    }\n",
       "\n",
       "    .dataframe thead th {\n",
       "        text-align: right;\n",
       "    }\n",
       "</style>\n",
       "<table border=\"1\" class=\"dataframe\">\n",
       "  <thead>\n",
       "    <tr style=\"text-align: right;\">\n",
       "      <th></th>\n",
       "      <th>Open</th>\n",
       "      <th>High</th>\n",
       "      <th>Low</th>\n",
       "      <th>Close</th>\n",
       "    </tr>\n",
       "    <tr>\n",
       "      <th>Date</th>\n",
       "      <th></th>\n",
       "      <th></th>\n",
       "      <th></th>\n",
       "      <th></th>\n",
       "    </tr>\n",
       "  </thead>\n",
       "  <tbody>\n",
       "    <tr>\n",
       "      <th>2019-12-24</th>\n",
       "      <td>3225.449951</td>\n",
       "      <td>3226.429932</td>\n",
       "      <td>3220.510010</td>\n",
       "      <td>3223.379883</td>\n",
       "    </tr>\n",
       "    <tr>\n",
       "      <th>2019-12-26</th>\n",
       "      <td>3227.199951</td>\n",
       "      <td>3240.080078</td>\n",
       "      <td>3227.199951</td>\n",
       "      <td>3239.909912</td>\n",
       "    </tr>\n",
       "    <tr>\n",
       "      <th>2019-12-27</th>\n",
       "      <td>3247.229980</td>\n",
       "      <td>3247.929932</td>\n",
       "      <td>3234.370117</td>\n",
       "      <td>3240.020020</td>\n",
       "    </tr>\n",
       "    <tr>\n",
       "      <th>2019-12-30</th>\n",
       "      <td>3240.090088</td>\n",
       "      <td>3240.919922</td>\n",
       "      <td>3216.570068</td>\n",
       "      <td>3221.290039</td>\n",
       "    </tr>\n",
       "    <tr>\n",
       "      <th>2019-12-31</th>\n",
       "      <td>3215.179932</td>\n",
       "      <td>3231.719971</td>\n",
       "      <td>3212.030029</td>\n",
       "      <td>3230.780029</td>\n",
       "    </tr>\n",
       "  </tbody>\n",
       "</table>\n",
       "</div>"
      ],
      "text/plain": [
       "                   Open         High          Low        Close\n",
       "Date                                                          \n",
       "2019-12-24  3225.449951  3226.429932  3220.510010  3223.379883\n",
       "2019-12-26  3227.199951  3240.080078  3227.199951  3239.909912\n",
       "2019-12-27  3247.229980  3247.929932  3234.370117  3240.020020\n",
       "2019-12-30  3240.090088  3240.919922  3216.570068  3221.290039\n",
       "2019-12-31  3215.179932  3231.719971  3212.030029  3230.780029"
      ]
     },
     "execution_count": 3,
     "metadata": {},
     "output_type": "execute_result"
    }
   ],
   "source": [
    "price = yf.download(SYMBOL, start=START, end=END)\n",
    "price = price.drop(['Volume', 'Adj Close'], axis=1)\n",
    "price.tail()"
   ]
  },
  {
   "cell_type": "markdown",
   "id": "17b0241c",
   "metadata": {},
   "source": [
    "### Data Visualization"
   ]
  },
  {
   "cell_type": "markdown",
   "id": "075a2d5a",
   "metadata": {},
   "source": [
    "\n",
    "Visualizing the closing prices of the S&P 500 over time can properly provide us with a better understanding of the market trends and fluctuations. \n"
   ]
  },
  {
   "cell_type": "code",
   "execution_count": 4,
   "id": "337d7dcc",
   "metadata": {},
   "outputs": [
    {
     "data": {
      "image/png": "[encoded data removed]",
      "text/plain": [
       "<Figure size 640x480 with 1 Axes>"
      ]
     },
     "metadata": {},
     "output_type": "display_data"
    }
   ],
   "source": [
    "\n",
    "plt.style.use('dark_background')\n",
    "plt.plot(price.Close)\n",
    "plt.title('S&P 500 Closing Prices (2000-2020)')\n",
    "plt.xlabel('Date')\n",
    "plt.ylabel('Closing Price')\n",
    "plt.show()\n",
    "    "
   ]
  },
  {
   "cell_type": "markdown",
   "id": "b73d16b6",
   "metadata": {},
   "source": [
    "Calculating Key Metrics"
   ]
  },
  {
   "cell_type": "markdown",
   "id": "735fda67",
   "metadata": {},
   "source": [
    "\n",
    "Here, we calculate several key metrics that will form the basis of our trading strategy:\n",
    "- **Return**: The daily return of the S&P 500.\n",
    "- **Range**: The daily price range (High - Low).\n",
    "- **Dist**: The distance of the closing price from the low of the day.\n",
    "- **Pct**: The percentage of the distance relative to the range.\n"
   ]
  },
  {
   "cell_type": "code",
   "execution_count": 10,
   "id": "a87ade7f",
   "metadata": {},
   "outputs": [
    {
     "data": {
      "text/html": [
       "<div>\n",
       "<style scoped>\n",
       "    .dataframe tbody tr th:only-of-type {\n",
       "        vertical-align: middle;\n",
       "    }\n",
       "\n",
       "    .dataframe tbody tr th {\n",
       "        vertical-align: top;\n",
       "    }\n",
       "\n",
       "    .dataframe thead th {\n",
       "        text-align: right;\n",
       "    }\n",
       "</style>\n",
       "<table border=\"1\" class=\"dataframe\">\n",
       "  <thead>\n",
       "    <tr style=\"text-align: right;\">\n",
       "      <th></th>\n",
       "      <th>Open</th>\n",
       "      <th>High</th>\n",
       "      <th>Low</th>\n",
       "      <th>Close</th>\n",
       "      <th>Return</th>\n",
       "      <th>Range</th>\n",
       "      <th>Dist</th>\n",
       "      <th>Pct</th>\n",
       "      <th>Long</th>\n",
       "      <th>Sys_Ret</th>\n",
       "    </tr>\n",
       "    <tr>\n",
       "      <th>Date</th>\n",
       "      <th></th>\n",
       "      <th></th>\n",
       "      <th></th>\n",
       "      <th></th>\n",
       "      <th></th>\n",
       "      <th></th>\n",
       "      <th></th>\n",
       "      <th></th>\n",
       "      <th></th>\n",
       "      <th></th>\n",
       "    </tr>\n",
       "  </thead>\n",
       "  <tbody>\n",
       "    <tr>\n",
       "      <th>2019-12-24</th>\n",
       "      <td>3225.449951</td>\n",
       "      <td>3226.429932</td>\n",
       "      <td>3220.510010</td>\n",
       "      <td>3223.379883</td>\n",
       "      <td>0.999805</td>\n",
       "      <td>5.919922</td>\n",
       "      <td>2.869873</td>\n",
       "      <td>48.478225</td>\n",
       "      <td>True</td>\n",
       "      <td>0.999805</td>\n",
       "    </tr>\n",
       "    <tr>\n",
       "      <th>2019-12-26</th>\n",
       "      <td>3227.199951</td>\n",
       "      <td>3240.080078</td>\n",
       "      <td>3227.199951</td>\n",
       "      <td>3239.909912</td>\n",
       "      <td>1.005128</td>\n",
       "      <td>12.880127</td>\n",
       "      <td>12.709961</td>\n",
       "      <td>98.678848</td>\n",
       "      <td>True</td>\n",
       "      <td>1.005128</td>\n",
       "    </tr>\n",
       "    <tr>\n",
       "      <th>2019-12-27</th>\n",
       "      <td>3247.229980</td>\n",
       "      <td>3247.929932</td>\n",
       "      <td>3234.370117</td>\n",
       "      <td>3240.020020</td>\n",
       "      <td>1.000034</td>\n",
       "      <td>13.559814</td>\n",
       "      <td>5.649902</td>\n",
       "      <td>41.666517</td>\n",
       "      <td>True</td>\n",
       "      <td>1.000034</td>\n",
       "    </tr>\n",
       "    <tr>\n",
       "      <th>2019-12-30</th>\n",
       "      <td>3240.090088</td>\n",
       "      <td>3240.919922</td>\n",
       "      <td>3216.570068</td>\n",
       "      <td>3221.290039</td>\n",
       "      <td>0.994219</td>\n",
       "      <td>24.349854</td>\n",
       "      <td>4.719971</td>\n",
       "      <td>19.383980</td>\n",
       "      <td>True</td>\n",
       "      <td>0.994219</td>\n",
       "    </tr>\n",
       "    <tr>\n",
       "      <th>2019-12-31</th>\n",
       "      <td>3215.179932</td>\n",
       "      <td>3231.719971</td>\n",
       "      <td>3212.030029</td>\n",
       "      <td>3230.780029</td>\n",
       "      <td>1.002946</td>\n",
       "      <td>19.689941</td>\n",
       "      <td>18.750000</td>\n",
       "      <td>95.226286</td>\n",
       "      <td>True</td>\n",
       "      <td>1.002946</td>\n",
       "    </tr>\n",
       "  </tbody>\n",
       "</table>\n",
       "</div>"
      ],
      "text/plain": [
       "                   Open         High          Low        Close    Return  \\\n",
       "Date                                                                       \n",
       "2019-12-24  3225.449951  3226.429932  3220.510010  3223.379883  0.999805   \n",
       "2019-12-26  3227.199951  3240.080078  3227.199951  3239.909912  1.005128   \n",
       "2019-12-27  3247.229980  3247.929932  3234.370117  3240.020020  1.000034   \n",
       "2019-12-30  3240.090088  3240.919922  3216.570068  3221.290039  0.994219   \n",
       "2019-12-31  3215.179932  3231.719971  3212.030029  3230.780029  1.002946   \n",
       "\n",
       "                Range       Dist        Pct  Long   Sys_Ret  \n",
       "Date                                                         \n",
       "2019-12-24   5.919922   2.869873  48.478225  True  0.999805  \n",
       "2019-12-26  12.880127  12.709961  98.678848  True  1.005128  \n",
       "2019-12-27  13.559814   5.649902  41.666517  True  1.000034  \n",
       "2019-12-30  24.349854   4.719971  19.383980  True  0.994219  \n",
       "2019-12-31  19.689941  18.750000  95.226286  True  1.002946  "
      ]
     },
     "execution_count": 10,
     "metadata": {},
     "output_type": "execute_result"
    }
   ],
   "source": [
    "price['Return'] = price.Close / price.Close.shift(1)\n",
    "price.Return.iat[0] = 1\n",
    "\n",
    "price['Range'] = price.High - price.Low\n",
    "\n",
    "price['Dist'] = abs(price.Close - price.Low)\n",
    "\n",
    "price['Pct'] = (price.Dist / price.Range) * 100\n",
    "\n",
    "price.tail()"
   ]
  },
  {
   "cell_type": "markdown",
   "id": "afe6fff6",
   "metadata": {},
   "source": [
    "### Implementing the Trading Strategy"
   ]
  },
  {
   "cell_type": "markdown",
   "id": "772e1916",
   "metadata": {},
   "source": [
    "\n",
    "We define a simple trading strategy: we enter a long position if the percentage of the distance from the closing price to the low is below a certain threshold. \n",
    "We then calculate the return of this strategy and compare it to the benchmark.\n"
   ]
  },
  {
   "cell_type": "code",
   "execution_count": 6,
   "id": "0803ec51",
   "metadata": {},
   "outputs": [
    {
     "data": {
      "text/html": [
       "<div>\n",
       "<style scoped>\n",
       "    .dataframe tbody tr th:only-of-type {\n",
       "        vertical-align: middle;\n",
       "    }\n",
       "\n",
       "    .dataframe tbody tr th {\n",
       "        vertical-align: top;\n",
       "    }\n",
       "\n",
       "    .dataframe thead th {\n",
       "        text-align: right;\n",
       "    }\n",
       "</style>\n",
       "<table border=\"1\" class=\"dataframe\">\n",
       "  <thead>\n",
       "    <tr style=\"text-align: right;\">\n",
       "      <th></th>\n",
       "      <th>Open</th>\n",
       "      <th>High</th>\n",
       "      <th>Low</th>\n",
       "      <th>Close</th>\n",
       "      <th>Return</th>\n",
       "      <th>Range</th>\n",
       "      <th>Dist</th>\n",
       "      <th>Pct</th>\n",
       "      <th>Long</th>\n",
       "      <th>Sys_Ret</th>\n",
       "    </tr>\n",
       "    <tr>\n",
       "      <th>Date</th>\n",
       "      <th></th>\n",
       "      <th></th>\n",
       "      <th></th>\n",
       "      <th></th>\n",
       "      <th></th>\n",
       "      <th></th>\n",
       "      <th></th>\n",
       "      <th></th>\n",
       "      <th></th>\n",
       "      <th></th>\n",
       "    </tr>\n",
       "  </thead>\n",
       "  <tbody>\n",
       "    <tr>\n",
       "      <th>2019-12-24</th>\n",
       "      <td>3225.449951</td>\n",
       "      <td>3226.429932</td>\n",
       "      <td>3220.510010</td>\n",
       "      <td>3223.379883</td>\n",
       "      <td>0.999805</td>\n",
       "      <td>5.919922</td>\n",
       "      <td>2.869873</td>\n",
       "      <td>48.478225</td>\n",
       "      <td>False</td>\n",
       "      <td>1.000000</td>\n",
       "    </tr>\n",
       "    <tr>\n",
       "      <th>2019-12-26</th>\n",
       "      <td>3227.199951</td>\n",
       "      <td>3240.080078</td>\n",
       "      <td>3227.199951</td>\n",
       "      <td>3239.909912</td>\n",
       "      <td>1.005128</td>\n",
       "      <td>12.880127</td>\n",
       "      <td>12.709961</td>\n",
       "      <td>98.678848</td>\n",
       "      <td>False</td>\n",
       "      <td>1.000000</td>\n",
       "    </tr>\n",
       "    <tr>\n",
       "      <th>2019-12-27</th>\n",
       "      <td>3247.229980</td>\n",
       "      <td>3247.929932</td>\n",
       "      <td>3234.370117</td>\n",
       "      <td>3240.020020</td>\n",
       "      <td>1.000034</td>\n",
       "      <td>13.559814</td>\n",
       "      <td>5.649902</td>\n",
       "      <td>41.666517</td>\n",
       "      <td>False</td>\n",
       "      <td>1.000000</td>\n",
       "    </tr>\n",
       "    <tr>\n",
       "      <th>2019-12-30</th>\n",
       "      <td>3240.090088</td>\n",
       "      <td>3240.919922</td>\n",
       "      <td>3216.570068</td>\n",
       "      <td>3221.290039</td>\n",
       "      <td>0.994219</td>\n",
       "      <td>24.349854</td>\n",
       "      <td>4.719971</td>\n",
       "      <td>19.383980</td>\n",
       "      <td>True</td>\n",
       "      <td>1.000000</td>\n",
       "    </tr>\n",
       "    <tr>\n",
       "      <th>2019-12-31</th>\n",
       "      <td>3215.179932</td>\n",
       "      <td>3231.719971</td>\n",
       "      <td>3212.030029</td>\n",
       "      <td>3230.780029</td>\n",
       "      <td>1.002946</td>\n",
       "      <td>19.689941</td>\n",
       "      <td>18.750000</td>\n",
       "      <td>95.226286</td>\n",
       "      <td>False</td>\n",
       "      <td>1.002946</td>\n",
       "    </tr>\n",
       "  </tbody>\n",
       "</table>\n",
       "</div>"
      ],
      "text/plain": [
       "                   Open         High          Low        Close    Return  \\\n",
       "Date                                                                       \n",
       "2019-12-24  3225.449951  3226.429932  3220.510010  3223.379883  0.999805   \n",
       "2019-12-26  3227.199951  3240.080078  3227.199951  3239.909912  1.005128   \n",
       "2019-12-27  3247.229980  3247.929932  3234.370117  3240.020020  1.000034   \n",
       "2019-12-30  3240.090088  3240.919922  3216.570068  3221.290039  0.994219   \n",
       "2019-12-31  3215.179932  3231.719971  3212.030029  3230.780029  1.002946   \n",
       "\n",
       "                Range       Dist        Pct   Long   Sys_Ret  \n",
       "Date                                                          \n",
       "2019-12-24   5.919922   2.869873  48.478225  False  1.000000  \n",
       "2019-12-26  12.880127  12.709961  98.678848  False  1.000000  \n",
       "2019-12-27  13.559814   5.649902  41.666517  False  1.000000  \n",
       "2019-12-30  24.349854   4.719971  19.383980   True  1.000000  \n",
       "2019-12-31  19.689941  18.750000  95.226286  False  1.002946  "
      ]
     },
     "execution_count": 6,
     "metadata": {},
     "output_type": "execute_result"
    }
   ],
   "source": [
    "price['Long'] = price.Pct < PCT_THRESH\n",
    "\n",
    "price['Sys_Ret'] = np.where(price.Long.shift(1) == True, price.Return, 1.0)\n",
    "\n",
    "price.tail() "
   ]
  },
  {
   "cell_type": "markdown",
   "id": "f2697ff3",
   "metadata": {},
   "source": [
    "### Evaluating Strategy Performance"
   ]
  },
  {
   "cell_type": "markdown",
   "id": "f0bb7a28",
   "metadata": {},
   "source": [
    "\n",
    "To evaluate the effectiveness of our strategy, we can utilize a few extremely textbook several performance metrics:\n",
    "- **Win Rate**: The percentage of days where the strategy results in a gain.\n",
    "- **Sharpe Ratio**: A measure of risk-adjusted return.\n",
    "- **Max Drawdown**: The maximum observed loss from a peak to a trough.\n"
   ]
  },
  {
   "cell_type": "code",
   "execution_count": 7,
   "id": "93c13688",
   "metadata": {},
   "outputs": [
    {
     "name": "stdout",
     "output_type": "stream",
     "text": [
      "Benchmark Winrate: 53.57%\n",
      "System Winrate: 58.73%\n",
      "System Sharpe Ratio: 0.049279250129271764\n",
      "Max Drawdown: 0.7054998887812611\n"
     ]
    }
   ],
   "source": [
    "\n",
    "#benchmark up and down days\n",
    "bench_win = price.Return[price.Return > 1.0].count()\n",
    "bench_loss = price.Return[price.Return < 1.0].count()\n",
    "bench_winrate = round((bench_win / (bench_win + bench_loss)) * 100, 2)\n",
    "\n",
    "#extract the up and down days\n",
    "sys_win = price.Sys_Ret[price.Sys_Ret > 1.0].count()\n",
    "sys_loss = price.Sys_Ret[price.Sys_Ret < 1.0].count()\n",
    "sys_winrate = round(sys_win / (sys_win + sys_loss) * 100, 2)\n",
    "sharpe_ratio = (price['Sys_Ret'].mean() - 1) / price['Sys_Ret'].std()\n",
    "max_drawdown = np.min(price['Sys_Ret'].cumprod() / np.maximum.accumulate(price['Sys_Ret'].cumprod()))\n",
    "\n",
    "print(f'Benchmark Winrate: {bench_winrate}%')\n",
    "print(f'System Winrate: {sys_winrate}%')\n",
    "print(f'System Sharpe Ratio: {sharpe_ratio}')\n",
    "print(f'Max Drawdown: {max_drawdown}')\n",
    "    "
   ]
  },
  {
   "cell_type": "markdown",
   "id": "50ae378b",
   "metadata": {},
   "source": [
    "### Sensitivity Analysis"
   ]
  },
  {
   "cell_type": "markdown",
   "id": "cc805fd3",
   "metadata": {},
   "source": [
    "\n",
    "We now conduct a sensitivity analysis to observe how different percentage thresholds affect the strategy's performance, on various thresholds.\n"
   ]
  },
  {
   "cell_type": "code",
   "execution_count": 9,
   "id": "8540567b",
   "metadata": {},
   "outputs": [
    {
     "data": {
      "image/png": "[encoded data removed]",
      "text/plain": [
       "<Figure size 640x480 with 1 Axes>"
      ]
     },
     "metadata": {},
     "output_type": "display_data"
    }
   ],
   "source": [
    "def simulate(price, threshold):\n",
    "    price['Long'] = price.Pct < threshold\n",
    "    price['Sys_Ret'] = np.where(price.Long.shift(1) == True, price.Return, 1.0)\n",
    "    sys_win = price.Sys_Ret[price.Sys_Ret > 1.0].count()\n",
    "    sys_loss = price.Sys_Ret[price.Sys_Ret < 1.0].count()\n",
    "    sys_winrate = round(sys_win / (sys_win + sys_loss) * 100, 2)\n",
    "\n",
    "    return sys_winrate\n",
    "\n",
    "results = []\n",
    "pct_range = range(5, 101)\n",
    "\n",
    "for pct in pct_range:\n",
    "    results.append(simulate(price, pct))\n",
    "\n",
    "plt.plot(pct_range, results)\n",
    "plt.hlines(bench_winrate, pct_range[0], pct_range[-1], colors = 'orange')\n",
    "plt.title('Sensitivity Analysis of Win Rate vs Threshold')\n",
    "plt.xlabel('Percentage Threshold')\n",
    "plt.ylabel('Win Rate (%)')\n",
    "plt.show()\n",
    "    "
   ]
  },
  {
   "cell_type": "markdown",
   "id": "5ea52dcf",
   "metadata": {},
   "source": [
    "What we're seeing here is the result of the strategy. We can see the winrates of the strategy, on the blue line, compared to the \"buy and hold\" strategy on the blue line. "
   ]
  },
  {
   "cell_type": "markdown",
   "id": "e936e3a7",
   "metadata": {},
   "source": [
    "### Backtesting"
   ]
  },
  {
   "cell_type": "markdown",
   "id": "519afb13",
   "metadata": {},
   "source": [
    "Backtest rules:\n",
    "\n",
    "1. Check if today's close is in the bottom n % of the day's range\n",
    "2. If condition is met then enter on the close and exit the next day's close, unless the signal is repeated."
   ]
  },
  {
   "cell_type": "code",
   "execution_count": 19,
   "id": "d6d303c3",
   "metadata": {},
   "outputs": [
    {
     "ename": "KeyError",
     "evalue": "\"['Volume', 'Adj Close'] not found in axis\"",
     "output_type": "error",
     "traceback": [
      "\u001b[1;31m---------------------------------------------------------------------------\u001b[0m",
      "\u001b[1;31mKeyError\u001b[0m                                  Traceback (most recent call last)",
      "Cell \u001b[1;32mIn[19], line 2\u001b[0m\n\u001b[0;32m      1\u001b[0m \u001b[38;5;66;03m#drop redundant columns\u001b[39;00m\n\u001b[1;32m----> 2\u001b[0m price \u001b[38;5;241m=\u001b[39m \u001b[43mprice\u001b[49m\u001b[38;5;241;43m.\u001b[39;49m\u001b[43mdrop\u001b[49m\u001b[43m(\u001b[49m\u001b[43m[\u001b[49m\u001b[38;5;124;43m'\u001b[39;49m\u001b[38;5;124;43mVolume\u001b[39;49m\u001b[38;5;124;43m'\u001b[39;49m\u001b[43m,\u001b[49m\u001b[43m \u001b[49m\u001b[38;5;124;43m'\u001b[39;49m\u001b[38;5;124;43mAdj Close\u001b[39;49m\u001b[38;5;124;43m'\u001b[39;49m\u001b[43m]\u001b[49m\u001b[43m,\u001b[49m\u001b[43m \u001b[49m\u001b[43maxis\u001b[49m\u001b[38;5;241;43m=\u001b[39;49m\u001b[38;5;241;43m1\u001b[39;49m\u001b[43m)\u001b[49m\n\u001b[0;32m      4\u001b[0m price\u001b[38;5;241m.\u001b[39mtail()\n",
      "File \u001b[1;32mc:\\Users\\ashda\\AppData\\Local\\Programs\\Python\\Python312\\Lib\\site-packages\\pandas\\core\\frame.py:5581\u001b[0m, in \u001b[0;36mDataFrame.drop\u001b[1;34m(self, labels, axis, index, columns, level, inplace, errors)\u001b[0m\n\u001b[0;32m   5433\u001b[0m \u001b[38;5;28;01mdef\u001b[39;00m \u001b[38;5;21mdrop\u001b[39m(\n\u001b[0;32m   5434\u001b[0m     \u001b[38;5;28mself\u001b[39m,\n\u001b[0;32m   5435\u001b[0m     labels: IndexLabel \u001b[38;5;241m|\u001b[39m \u001b[38;5;28;01mNone\u001b[39;00m \u001b[38;5;241m=\u001b[39m \u001b[38;5;28;01mNone\u001b[39;00m,\n\u001b[1;32m   (...)\u001b[0m\n\u001b[0;32m   5442\u001b[0m     errors: IgnoreRaise \u001b[38;5;241m=\u001b[39m \u001b[38;5;124m\"\u001b[39m\u001b[38;5;124mraise\u001b[39m\u001b[38;5;124m\"\u001b[39m,\n\u001b[0;32m   5443\u001b[0m ) \u001b[38;5;241m-\u001b[39m\u001b[38;5;241m>\u001b[39m DataFrame \u001b[38;5;241m|\u001b[39m \u001b[38;5;28;01mNone\u001b[39;00m:\n\u001b[0;32m   5444\u001b[0m \u001b[38;5;250m    \u001b[39m\u001b[38;5;124;03m\"\"\"\u001b[39;00m\n\u001b[0;32m   5445\u001b[0m \u001b[38;5;124;03m    Drop specified labels from rows or columns.\u001b[39;00m\n\u001b[0;32m   5446\u001b[0m \n\u001b[1;32m   (...)\u001b[0m\n\u001b[0;32m   5579\u001b[0m \u001b[38;5;124;03m            weight  1.0     0.8\u001b[39;00m\n\u001b[0;32m   5580\u001b[0m \u001b[38;5;124;03m    \"\"\"\u001b[39;00m\n\u001b[1;32m-> 5581\u001b[0m     \u001b[38;5;28;01mreturn\u001b[39;00m \u001b[38;5;28;43msuper\u001b[39;49m\u001b[43m(\u001b[49m\u001b[43m)\u001b[49m\u001b[38;5;241;43m.\u001b[39;49m\u001b[43mdrop\u001b[49m\u001b[43m(\u001b[49m\n\u001b[0;32m   5582\u001b[0m \u001b[43m        \u001b[49m\u001b[43mlabels\u001b[49m\u001b[38;5;241;43m=\u001b[39;49m\u001b[43mlabels\u001b[49m\u001b[43m,\u001b[49m\n\u001b[0;32m   5583\u001b[0m \u001b[43m        \u001b[49m\u001b[43maxis\u001b[49m\u001b[38;5;241;43m=\u001b[39;49m\u001b[43maxis\u001b[49m\u001b[43m,\u001b[49m\n\u001b[0;32m   5584\u001b[0m \u001b[43m        \u001b[49m\u001b[43mindex\u001b[49m\u001b[38;5;241;43m=\u001b[39;49m\u001b[43mindex\u001b[49m\u001b[43m,\u001b[49m\n\u001b[0;32m   5585\u001b[0m \u001b[43m        \u001b[49m\u001b[43mcolumns\u001b[49m\u001b[38;5;241;43m=\u001b[39;49m\u001b[43mcolumns\u001b[49m\u001b[43m,\u001b[49m\n\u001b[0;32m   5586\u001b[0m \u001b[43m        \u001b[49m\u001b[43mlevel\u001b[49m\u001b[38;5;241;43m=\u001b[39;49m\u001b[43mlevel\u001b[49m\u001b[43m,\u001b[49m\n\u001b[0;32m   5587\u001b[0m \u001b[43m        \u001b[49m\u001b[43minplace\u001b[49m\u001b[38;5;241;43m=\u001b[39;49m\u001b[43minplace\u001b[49m\u001b[43m,\u001b[49m\n\u001b[0;32m   5588\u001b[0m \u001b[43m        \u001b[49m\u001b[43merrors\u001b[49m\u001b[38;5;241;43m=\u001b[39;49m\u001b[43merrors\u001b[49m\u001b[43m,\u001b[49m\n\u001b[0;32m   5589\u001b[0m \u001b[43m    \u001b[49m\u001b[43m)\u001b[49m\n",
      "File \u001b[1;32mc:\\Users\\ashda\\AppData\\Local\\Programs\\Python\\Python312\\Lib\\site-packages\\pandas\\core\\generic.py:4788\u001b[0m, in \u001b[0;36mNDFrame.drop\u001b[1;34m(self, labels, axis, index, columns, level, inplace, errors)\u001b[0m\n\u001b[0;32m   4786\u001b[0m \u001b[38;5;28;01mfor\u001b[39;00m axis, labels \u001b[38;5;129;01min\u001b[39;00m axes\u001b[38;5;241m.\u001b[39mitems():\n\u001b[0;32m   4787\u001b[0m     \u001b[38;5;28;01mif\u001b[39;00m labels \u001b[38;5;129;01mis\u001b[39;00m \u001b[38;5;129;01mnot\u001b[39;00m \u001b[38;5;28;01mNone\u001b[39;00m:\n\u001b[1;32m-> 4788\u001b[0m         obj \u001b[38;5;241m=\u001b[39m \u001b[43mobj\u001b[49m\u001b[38;5;241;43m.\u001b[39;49m\u001b[43m_drop_axis\u001b[49m\u001b[43m(\u001b[49m\u001b[43mlabels\u001b[49m\u001b[43m,\u001b[49m\u001b[43m \u001b[49m\u001b[43maxis\u001b[49m\u001b[43m,\u001b[49m\u001b[43m \u001b[49m\u001b[43mlevel\u001b[49m\u001b[38;5;241;43m=\u001b[39;49m\u001b[43mlevel\u001b[49m\u001b[43m,\u001b[49m\u001b[43m \u001b[49m\u001b[43merrors\u001b[49m\u001b[38;5;241;43m=\u001b[39;49m\u001b[43merrors\u001b[49m\u001b[43m)\u001b[49m\n\u001b[0;32m   4790\u001b[0m \u001b[38;5;28;01mif\u001b[39;00m inplace:\n\u001b[0;32m   4791\u001b[0m     \u001b[38;5;28mself\u001b[39m\u001b[38;5;241m.\u001b[39m_update_inplace(obj)\n",
      "File \u001b[1;32mc:\\Users\\ashda\\AppData\\Local\\Programs\\Python\\Python312\\Lib\\site-packages\\pandas\\core\\generic.py:4830\u001b[0m, in \u001b[0;36mNDFrame._drop_axis\u001b[1;34m(self, labels, axis, level, errors, only_slice)\u001b[0m\n\u001b[0;32m   4828\u001b[0m         new_axis \u001b[38;5;241m=\u001b[39m axis\u001b[38;5;241m.\u001b[39mdrop(labels, level\u001b[38;5;241m=\u001b[39mlevel, errors\u001b[38;5;241m=\u001b[39merrors)\n\u001b[0;32m   4829\u001b[0m     \u001b[38;5;28;01melse\u001b[39;00m:\n\u001b[1;32m-> 4830\u001b[0m         new_axis \u001b[38;5;241m=\u001b[39m \u001b[43maxis\u001b[49m\u001b[38;5;241;43m.\u001b[39;49m\u001b[43mdrop\u001b[49m\u001b[43m(\u001b[49m\u001b[43mlabels\u001b[49m\u001b[43m,\u001b[49m\u001b[43m \u001b[49m\u001b[43merrors\u001b[49m\u001b[38;5;241;43m=\u001b[39;49m\u001b[43merrors\u001b[49m\u001b[43m)\u001b[49m\n\u001b[0;32m   4831\u001b[0m     indexer \u001b[38;5;241m=\u001b[39m axis\u001b[38;5;241m.\u001b[39mget_indexer(new_axis)\n\u001b[0;32m   4833\u001b[0m \u001b[38;5;66;03m# Case for non-unique axis\u001b[39;00m\n\u001b[0;32m   4834\u001b[0m \u001b[38;5;28;01melse\u001b[39;00m:\n",
      "File \u001b[1;32mc:\\Users\\ashda\\AppData\\Local\\Programs\\Python\\Python312\\Lib\\site-packages\\pandas\\core\\indexes\\base.py:7070\u001b[0m, in \u001b[0;36mIndex.drop\u001b[1;34m(self, labels, errors)\u001b[0m\n\u001b[0;32m   7068\u001b[0m \u001b[38;5;28;01mif\u001b[39;00m mask\u001b[38;5;241m.\u001b[39many():\n\u001b[0;32m   7069\u001b[0m     \u001b[38;5;28;01mif\u001b[39;00m errors \u001b[38;5;241m!=\u001b[39m \u001b[38;5;124m\"\u001b[39m\u001b[38;5;124mignore\u001b[39m\u001b[38;5;124m\"\u001b[39m:\n\u001b[1;32m-> 7070\u001b[0m         \u001b[38;5;28;01mraise\u001b[39;00m \u001b[38;5;167;01mKeyError\u001b[39;00m(\u001b[38;5;124mf\u001b[39m\u001b[38;5;124m\"\u001b[39m\u001b[38;5;132;01m{\u001b[39;00mlabels[mask]\u001b[38;5;241m.\u001b[39mtolist()\u001b[38;5;132;01m}\u001b[39;00m\u001b[38;5;124m not found in axis\u001b[39m\u001b[38;5;124m\"\u001b[39m)\n\u001b[0;32m   7071\u001b[0m     indexer \u001b[38;5;241m=\u001b[39m indexer[\u001b[38;5;241m~\u001b[39mmask]\n\u001b[0;32m   7072\u001b[0m \u001b[38;5;28;01mreturn\u001b[39;00m \u001b[38;5;28mself\u001b[39m\u001b[38;5;241m.\u001b[39mdelete(indexer)\n",
      "\u001b[1;31mKeyError\u001b[0m: \"['Volume', 'Adj Close'] not found in axis\""
     ]
    }
   ],
   "source": [
    "#drop redundant columns\n",
    "price = price.drop(['Volume', 'Adj Close'], axis=1)\n",
    "\n",
    "price.tail()"
   ]
  },
  {
   "cell_type": "code",
   "execution_count": 16,
   "id": "f340c8ad",
   "metadata": {},
   "outputs": [
    {
     "data": {
      "image/png": "[encoded data removed]",
      "text/plain": [
       "<Figure size 640x480 with 1 Axes>"
      ]
     },
     "metadata": {},
     "output_type": "display_data"
    }
   ],
   "source": [
    "#plot balance\n",
    "plt.plot(price.Bench_Bal)\n",
    "plt.plot(price.Sys_Bal, color=\"g\")\n",
    "\n",
    "plt.show()"
   ]
  }
 ],
 "metadata": {
  "kernelspec": {
   "display_name": "Python 3",
   "language": "python",
   "name": "python3"
  },
  "language_info": {
   "codemirror_mode": {
    "name": "ipython",
    "version": 3
   },
   "file_extension": ".py",
   "mimetype": "text/x-python",
   "name": "python",
   "nbconvert_exporter": "python",
   "pygments_lexer": "ipython3",
   "version": "3.12.1"
  }
 },
 "nbformat": 4,
 "nbformat_minor": 5
}
