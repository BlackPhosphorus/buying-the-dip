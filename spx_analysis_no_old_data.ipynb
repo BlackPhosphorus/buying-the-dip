{
 "cells": [
  {
   "cell_type": "markdown",
   "id": "07f1c58f",
   "metadata": {},
   "source": [
    "# SPX Analysis: Average Daily Return After Negative Week"
   ]
  },
  {
   "cell_type": "code",
   "execution_count": 8,
   "id": "cc4ac5cc",
   "metadata": {},
   "outputs": [],
   "source": [
    "\n",
    "import yfinance as yf\n",
    "import pandas as pd\n",
    "import matplotlib.pyplot as plt\n",
    "from matplotlib.ticker import FixedLocator\n"
   ]
  },
  {
   "cell_type": "markdown",
   "id": "9c0ff525",
   "metadata": {},
   "source": [
    "## Downloading SPX Data"
   ]
  },
  {
   "cell_type": "code",
   "execution_count": 3,
   "id": "077b7567",
   "metadata": {},
   "outputs": [
    {
     "name": "stderr",
     "output_type": "stream",
     "text": [
      "[*********************100%%**********************]  1 of 1 completed\n"
     ]
    },
    {
     "data": {
      "text/html": [
       "<div>\n",
       "<style scoped>\n",
       "    .dataframe tbody tr th:only-of-type {\n",
       "        vertical-align: middle;\n",
       "    }\n",
       "\n",
       "    .dataframe tbody tr th {\n",
       "        vertical-align: top;\n",
       "    }\n",
       "\n",
       "    .dataframe thead th {\n",
       "        text-align: right;\n",
       "    }\n",
       "</style>\n",
       "<table border=\"1\" class=\"dataframe\">\n",
       "  <thead>\n",
       "    <tr style=\"text-align: right;\">\n",
       "      <th></th>\n",
       "      <th>Open</th>\n",
       "      <th>High</th>\n",
       "      <th>Low</th>\n",
       "      <th>Close</th>\n",
       "      <th>Adj Close</th>\n",
       "      <th>Volume</th>\n",
       "    </tr>\n",
       "    <tr>\n",
       "      <th>Date</th>\n",
       "      <th></th>\n",
       "      <th></th>\n",
       "      <th></th>\n",
       "      <th></th>\n",
       "      <th></th>\n",
       "      <th></th>\n",
       "    </tr>\n",
       "  </thead>\n",
       "  <tbody>\n",
       "    <tr>\n",
       "      <th>1980-01-02</th>\n",
       "      <td>0.0</td>\n",
       "      <td>108.430000</td>\n",
       "      <td>105.290001</td>\n",
       "      <td>105.760002</td>\n",
       "      <td>105.760002</td>\n",
       "      <td>40610000</td>\n",
       "    </tr>\n",
       "    <tr>\n",
       "      <th>1980-01-03</th>\n",
       "      <td>0.0</td>\n",
       "      <td>106.080002</td>\n",
       "      <td>103.260002</td>\n",
       "      <td>105.220001</td>\n",
       "      <td>105.220001</td>\n",
       "      <td>50480000</td>\n",
       "    </tr>\n",
       "    <tr>\n",
       "      <th>1980-01-04</th>\n",
       "      <td>0.0</td>\n",
       "      <td>107.080002</td>\n",
       "      <td>105.089996</td>\n",
       "      <td>106.519997</td>\n",
       "      <td>106.519997</td>\n",
       "      <td>39130000</td>\n",
       "    </tr>\n",
       "    <tr>\n",
       "      <th>1980-01-07</th>\n",
       "      <td>0.0</td>\n",
       "      <td>107.800003</td>\n",
       "      <td>105.800003</td>\n",
       "      <td>106.809998</td>\n",
       "      <td>106.809998</td>\n",
       "      <td>44500000</td>\n",
       "    </tr>\n",
       "    <tr>\n",
       "      <th>1980-01-08</th>\n",
       "      <td>0.0</td>\n",
       "      <td>109.290001</td>\n",
       "      <td>106.290001</td>\n",
       "      <td>108.949997</td>\n",
       "      <td>108.949997</td>\n",
       "      <td>53390000</td>\n",
       "    </tr>\n",
       "  </tbody>\n",
       "</table>\n",
       "</div>"
      ],
      "text/plain": [
       "            Open        High         Low       Close   Adj Close    Volume\n",
       "Date                                                                      \n",
       "1980-01-02   0.0  108.430000  105.290001  105.760002  105.760002  40610000\n",
       "1980-01-03   0.0  106.080002  103.260002  105.220001  105.220001  50480000\n",
       "1980-01-04   0.0  107.080002  105.089996  106.519997  106.519997  39130000\n",
       "1980-01-07   0.0  107.800003  105.800003  106.809998  106.809998  44500000\n",
       "1980-01-08   0.0  109.290001  106.290001  108.949997  108.949997  53390000"
      ]
     },
     "execution_count": 3,
     "metadata": {},
     "output_type": "execute_result"
    }
   ],
   "source": [
    "\n",
    "spx_data = yf.download('^GSPC', start='1980-01-01', end='2024-08-26')\n",
    "spx_data.head()\n"
   ]
  },
  {
   "cell_type": "markdown",
   "id": "4f6e28d8",
   "metadata": {},
   "source": [
    "## Calculating Returns"
   ]
  },
  {
   "cell_type": "code",
   "execution_count": 4,
   "id": "6009398d",
   "metadata": {},
   "outputs": [
    {
     "name": "stderr",
     "output_type": "stream",
     "text": [
      "C:\\Users\\ashda\\AppData\\Local\\Temp\\ipykernel_8504\\3964102702.py:14: SettingWithCopyWarning: \n",
      "A value is trying to be set on a copy of a slice from a DataFrame.\n",
      "Try using .loc[row_indexer,col_indexer] = value instead\n",
      "\n",
      "See the caveats in the documentation: https://pandas.pydata.org/pandas-docs/stable/user_guide/indexing.html#returning-a-view-versus-a-copy\n",
      "  spx_data['Next Week Avg Daily Return'] = spx_data['Daily Return'].shift(-5).rolling(window=5).mean()\n"
     ]
    },
    {
     "data": {
      "text/html": [
       "<div>\n",
       "<style scoped>\n",
       "    .dataframe tbody tr th:only-of-type {\n",
       "        vertical-align: middle;\n",
       "    }\n",
       "\n",
       "    .dataframe tbody tr th {\n",
       "        vertical-align: top;\n",
       "    }\n",
       "\n",
       "    .dataframe thead th {\n",
       "        text-align: right;\n",
       "    }\n",
       "</style>\n",
       "<table border=\"1\" class=\"dataframe\">\n",
       "  <thead>\n",
       "    <tr style=\"text-align: right;\">\n",
       "      <th></th>\n",
       "      <th>Open</th>\n",
       "      <th>High</th>\n",
       "      <th>Low</th>\n",
       "      <th>Close</th>\n",
       "      <th>Adj Close</th>\n",
       "      <th>Volume</th>\n",
       "      <th>Daily Return</th>\n",
       "      <th>Weekly Return</th>\n",
       "      <th>Next Week Avg Daily Return</th>\n",
       "    </tr>\n",
       "    <tr>\n",
       "      <th>Date</th>\n",
       "      <th></th>\n",
       "      <th></th>\n",
       "      <th></th>\n",
       "      <th></th>\n",
       "      <th></th>\n",
       "      <th></th>\n",
       "      <th></th>\n",
       "      <th></th>\n",
       "      <th></th>\n",
       "    </tr>\n",
       "  </thead>\n",
       "  <tbody>\n",
       "    <tr>\n",
       "      <th>1980-02-22</th>\n",
       "      <td>0.0</td>\n",
       "      <td>116.459999</td>\n",
       "      <td>113.430000</td>\n",
       "      <td>115.040001</td>\n",
       "      <td>115.040001</td>\n",
       "      <td>48210000</td>\n",
       "      <td>-0.002082</td>\n",
       "      <td>-0.003206</td>\n",
       "      <td>0.002189</td>\n",
       "    </tr>\n",
       "    <tr>\n",
       "      <th>1980-02-29</th>\n",
       "      <td>0.0</td>\n",
       "      <td>114.120003</td>\n",
       "      <td>111.769997</td>\n",
       "      <td>113.660004</td>\n",
       "      <td>113.660004</td>\n",
       "      <td>38810000</td>\n",
       "      <td>0.011660</td>\n",
       "      <td>-0.011996</td>\n",
       "      <td>-0.000700</td>\n",
       "    </tr>\n",
       "    <tr>\n",
       "      <th>1980-03-07</th>\n",
       "      <td>0.0</td>\n",
       "      <td>108.959999</td>\n",
       "      <td>105.989998</td>\n",
       "      <td>106.900002</td>\n",
       "      <td>106.900002</td>\n",
       "      <td>50950000</td>\n",
       "      <td>-0.016107</td>\n",
       "      <td>-0.059476</td>\n",
       "      <td>0.001532</td>\n",
       "    </tr>\n",
       "    <tr>\n",
       "      <th>1980-03-14</th>\n",
       "      <td>0.0</td>\n",
       "      <td>106.489998</td>\n",
       "      <td>104.010002</td>\n",
       "      <td>105.430000</td>\n",
       "      <td>105.430000</td>\n",
       "      <td>35180000</td>\n",
       "      <td>-0.001799</td>\n",
       "      <td>-0.013751</td>\n",
       "      <td>0.003347</td>\n",
       "    </tr>\n",
       "    <tr>\n",
       "      <th>1980-03-21</th>\n",
       "      <td>0.0</td>\n",
       "      <td>103.730003</td>\n",
       "      <td>101.550003</td>\n",
       "      <td>102.309998</td>\n",
       "      <td>102.309998</td>\n",
       "      <td>32220000</td>\n",
       "      <td>-0.007855</td>\n",
       "      <td>-0.029593</td>\n",
       "      <td>0.005146</td>\n",
       "    </tr>\n",
       "  </tbody>\n",
       "</table>\n",
       "</div>"
      ],
      "text/plain": [
       "            Open        High         Low       Close   Adj Close    Volume  \\\n",
       "Date                                                                         \n",
       "1980-02-22   0.0  116.459999  113.430000  115.040001  115.040001  48210000   \n",
       "1980-02-29   0.0  114.120003  111.769997  113.660004  113.660004  38810000   \n",
       "1980-03-07   0.0  108.959999  105.989998  106.900002  106.900002  50950000   \n",
       "1980-03-14   0.0  106.489998  104.010002  105.430000  105.430000  35180000   \n",
       "1980-03-21   0.0  103.730003  101.550003  102.309998  102.309998  32220000   \n",
       "\n",
       "            Daily Return  Weekly Return  Next Week Avg Daily Return  \n",
       "Date                                                                 \n",
       "1980-02-22     -0.002082      -0.003206                    0.002189  \n",
       "1980-02-29      0.011660      -0.011996                   -0.000700  \n",
       "1980-03-07     -0.016107      -0.059476                    0.001532  \n",
       "1980-03-14     -0.001799      -0.013751                    0.003347  \n",
       "1980-03-21     -0.007855      -0.029593                    0.005146  "
      ]
     },
     "execution_count": 4,
     "metadata": {},
     "output_type": "execute_result"
    }
   ],
   "source": [
    "\n",
    "spx_data['Adj Close'] = spx_data['Adj Close'].ffill()\n",
    "\n",
    "\n",
    "spx_data['Daily Return'] = spx_data['Adj Close'].pct_change()\n",
    "\n",
    "\n",
    "spx_data['Weekly Return'] = spx_data['Adj Close'].resample('W-FRI').ffill().pct_change()\n",
    "\n",
    "spx_data = spx_data.dropna(subset=['Weekly Return'])\n",
    "\n",
    "spx_data['Next Week Avg Daily Return'] = spx_data['Daily Return'].shift(-5).rolling(window=5).mean()\n",
    "\n",
    "negative_week_returns = spx_data.loc[spx_data['Weekly Return'].shift(1) < 0, :]\n",
    "negative_week_returns.head()\n"
   ]
  },
  {
   "cell_type": "markdown",
   "id": "e95f5ab3",
   "metadata": {},
   "source": [
    "## Calculating Yearly Averages"
   ]
  },
  {
   "cell_type": "code",
   "execution_count": 5,
   "id": "31d8220b",
   "metadata": {},
   "outputs": [
    {
     "name": "stderr",
     "output_type": "stream",
     "text": [
      "C:\\Users\\ashda\\AppData\\Local\\Temp\\ipykernel_8504\\1223455132.py:2: FutureWarning: 'Y' is deprecated and will be removed in a future version, please use 'YE' instead.\n",
      "  yearly_avg_return = negative_week_returns['Next Week Avg Daily Return'].resample('Y').mean() * 10000  # convert to basis points\n"
     ]
    },
    {
     "data": {
      "text/plain": [
       "Date\n",
       "1980-12-31    11.675695\n",
       "1981-12-31     7.018864\n",
       "1982-12-31     7.980027\n",
       "1983-12-31     3.098455\n",
       "1984-12-31    11.926434\n",
       "Freq: YE-DEC, Name: Next Week Avg Daily Return, dtype: float64"
      ]
     },
     "execution_count": 5,
     "metadata": {},
     "output_type": "execute_result"
    }
   ],
   "source": [
    "\n",
    "yearly_avg_return = negative_week_returns['Next Week Avg Daily Return'].resample('Y').mean() * 10000  # convert to basis points\n",
    "yearly_avg_return.head()"
   ]
  },
  {
   "cell_type": "markdown",
   "id": "c6fade91",
   "metadata": {},
   "source": [
    "## Plotting the Data"
   ]
  },
  {
   "cell_type": "code",
   "execution_count": 9,
   "id": "f5335186",
   "metadata": {},
   "outputs": [
    {
     "data": {
      "image/png": "[encoded data removed]",
      "text/plain": [
       "<Figure size 1400x800 with 1 Axes>"
      ]
     },
     "metadata": {},
     "output_type": "display_data"
    }
   ],
   "source": [
    "\n",
    "# Extract the year for plotting and drop any NaN values\n",
    "yearly_avg_return_clean = yearly_avg_return.dropna()\n",
    "years = yearly_avg_return_clean.index\n",
    "\n",
    "# Define x-axis ticks every two years\n",
    "start_year = years.min()\n",
    "end_year = years.max()\n",
    "tick_years = range(start_year, end_year + 1, 2)  # Every 2 years\n",
    "\n",
    "# Create the plot\n",
    "plt.figure(figsize=(14, 8))\n",
    "plt.bar(years, yearly_avg_return_clean, color='skyblue', edgecolor='black')\n",
    "\n",
    "# Add horizontal line at y=0\n",
    "plt.axhline(0, color='black', linewidth=1.2, linestyle='--')\n",
    "\n",
    "# Set title and labels\n",
    "plt.title('Average Daily SPX Return Following a Negative Week (1980-2024)', fontsize=16)\n",
    "plt.xlabel('Year', fontsize=14)\n",
    "plt.ylabel('Average Daily Return (Basis Points)', fontsize=14)\n",
    "\n",
    "# Set x-axis ticks\n",
    "plt.gca().xaxis.set_major_locator(FixedLocator(tick_years))\n",
    "plt.xticks(fontsize=12, rotation=45)\n",
    "plt.yticks(fontsize=12)\n",
    "\n",
    "# Add gridlines for better readability\n",
    "plt.grid(axis='y', linestyle='--', alpha=0.7)\n",
    "\n",
    "# Tight layout for better spacing\n",
    "plt.tight_layout()\n",
    "\n"
   ]
  }
 ],
 "metadata": {
  "kernelspec": {
   "display_name": "Python 3",
   "language": "python",
   "name": "python3"
  },
  "language_info": {
   "codemirror_mode": {
    "name": "ipython",
    "version": 3
   },
   "file_extension": ".py",
   "mimetype": "text/x-python",
   "name": "python",
   "nbconvert_exporter": "python",
   "pygments_lexer": "ipython3",
   "version": "3.12.1"
  }
 },
 "nbformat": 4,
 "nbformat_minor": 5
}
